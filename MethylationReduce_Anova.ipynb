{
  "cells": [
    {
      "cell_type": "code",
      "execution_count": null,
      "metadata": {
        "id": "Xr9Hk_8zviB5"
      },
      "outputs": [],
      "source": [
        "# Code to read csv file into Colaboratory:\n",
        "# !pip install -U -q PyDrive\n",
        "from pydrive.auth import GoogleAuth\n",
        "from pydrive.drive import GoogleDrive\n",
        "from google.colab import auth\n",
        "from oauth2client.client import GoogleCredentials\n",
        "import io\n",
        "\n",
        "# Authenticate and create the PyDrive client.\n",
        "auth.authenticate_user()\n",
        "gauth = GoogleAuth()\n",
        "gauth.credentials = GoogleCredentials.get_application_default()\n",
        "drive = GoogleDrive(gauth)"
      ]
    },
    {
      "cell_type": "code",
      "execution_count": null,
      "metadata": {
        "colab": {
          "base_uri": "https://localhost:8080/"
        },
        "id": "SX-Ad7bjvojB",
        "outputId": "f0335420-2f0a-4376-fc1d-53f9f504edaf"
      },
      "outputs": [
        {
          "output_type": "stream",
          "name": "stdout",
          "text": [
            "data0.csv found\n",
            "OK Data\n",
            "OK Norm\n"
          ]
        },
        {
          "output_type": "stream",
          "name": "stderr",
          "text": [
            "/usr/local/lib/python3.8/dist-packages/sklearn/feature_selection/_univariate_selection.py:109: RuntimeWarning: invalid value encountered in true_divide\n",
            "  msw = sswn / float(dfwn)\n"
          ]
        },
        {
          "output_type": "stream",
          "name": "stdout",
          "text": [
            "data1.csv found\n",
            "OK Data\n",
            "OK Norm\n"
          ]
        },
        {
          "output_type": "stream",
          "name": "stderr",
          "text": [
            "/usr/local/lib/python3.8/dist-packages/sklearn/feature_selection/_univariate_selection.py:109: RuntimeWarning: invalid value encountered in true_divide\n",
            "  msw = sswn / float(dfwn)\n"
          ]
        },
        {
          "output_type": "stream",
          "name": "stdout",
          "text": [
            "data2.csv found\n",
            "OK Data\n",
            "OK Norm\n"
          ]
        },
        {
          "output_type": "stream",
          "name": "stderr",
          "text": [
            "/usr/local/lib/python3.8/dist-packages/sklearn/feature_selection/_univariate_selection.py:109: RuntimeWarning: invalid value encountered in true_divide\n",
            "  msw = sswn / float(dfwn)\n"
          ]
        },
        {
          "output_type": "stream",
          "name": "stdout",
          "text": [
            "data3.csv found\n",
            "OK Data\n",
            "OK Norm\n"
          ]
        },
        {
          "output_type": "stream",
          "name": "stderr",
          "text": [
            "/usr/local/lib/python3.8/dist-packages/sklearn/feature_selection/_univariate_selection.py:109: RuntimeWarning: invalid value encountered in true_divide\n",
            "  msw = sswn / float(dfwn)\n"
          ]
        },
        {
          "output_type": "stream",
          "name": "stdout",
          "text": [
            "data4.csv found\n",
            "OK Data\n",
            "OK Norm\n"
          ]
        },
        {
          "output_type": "stream",
          "name": "stderr",
          "text": [
            "/usr/local/lib/python3.8/dist-packages/sklearn/feature_selection/_univariate_selection.py:109: RuntimeWarning: invalid value encountered in true_divide\n",
            "  msw = sswn / float(dfwn)\n"
          ]
        },
        {
          "output_type": "stream",
          "name": "stdout",
          "text": [
            "data5.csv found\n",
            "OK Data\n",
            "OK Norm\n"
          ]
        },
        {
          "output_type": "stream",
          "name": "stderr",
          "text": [
            "/usr/local/lib/python3.8/dist-packages/sklearn/feature_selection/_univariate_selection.py:109: RuntimeWarning: invalid value encountered in true_divide\n",
            "  msw = sswn / float(dfwn)\n"
          ]
        },
        {
          "output_type": "stream",
          "name": "stdout",
          "text": [
            "data6.csv found\n",
            "OK Data\n",
            "OK Norm\n"
          ]
        },
        {
          "output_type": "stream",
          "name": "stderr",
          "text": [
            "/usr/local/lib/python3.8/dist-packages/sklearn/feature_selection/_univariate_selection.py:109: RuntimeWarning: invalid value encountered in true_divide\n",
            "  msw = sswn / float(dfwn)\n"
          ]
        },
        {
          "output_type": "stream",
          "name": "stdout",
          "text": [
            "data7.csv found\n",
            "OK Data\n",
            "OK Norm\n"
          ]
        },
        {
          "output_type": "stream",
          "name": "stderr",
          "text": [
            "/usr/local/lib/python3.8/dist-packages/sklearn/feature_selection/_univariate_selection.py:109: RuntimeWarning: invalid value encountered in true_divide\n",
            "  msw = sswn / float(dfwn)\n"
          ]
        },
        {
          "output_type": "stream",
          "name": "stdout",
          "text": [
            "data8.csv found\n",
            "OK Data\n",
            "OK Norm\n"
          ]
        },
        {
          "output_type": "stream",
          "name": "stderr",
          "text": [
            "/usr/local/lib/python3.8/dist-packages/sklearn/feature_selection/_univariate_selection.py:109: RuntimeWarning: invalid value encountered in true_divide\n",
            "  msw = sswn / float(dfwn)\n"
          ]
        },
        {
          "output_type": "stream",
          "name": "stdout",
          "text": [
            "data9.csv found\n",
            "OK Data\n",
            "OK Norm\n"
          ]
        },
        {
          "output_type": "stream",
          "name": "stderr",
          "text": [
            "/usr/local/lib/python3.8/dist-packages/sklearn/feature_selection/_univariate_selection.py:109: RuntimeWarning: invalid value encountered in true_divide\n",
            "  msw = sswn / float(dfwn)\n"
          ]
        },
        {
          "output_type": "stream",
          "name": "stdout",
          "text": [
            "data10.csv found\n",
            "OK Data\n",
            "OK Norm\n"
          ]
        },
        {
          "output_type": "stream",
          "name": "stderr",
          "text": [
            "/usr/local/lib/python3.8/dist-packages/sklearn/feature_selection/_univariate_selection.py:109: RuntimeWarning: invalid value encountered in true_divide\n",
            "  msw = sswn / float(dfwn)\n"
          ]
        },
        {
          "output_type": "stream",
          "name": "stdout",
          "text": [
            "data11.csv found\n",
            "OK Data\n",
            "OK Norm\n"
          ]
        },
        {
          "output_type": "stream",
          "name": "stderr",
          "text": [
            "/usr/local/lib/python3.8/dist-packages/sklearn/feature_selection/_univariate_selection.py:109: RuntimeWarning: invalid value encountered in true_divide\n",
            "  msw = sswn / float(dfwn)\n"
          ]
        },
        {
          "output_type": "stream",
          "name": "stdout",
          "text": [
            "Go Save\n",
            "(440, 96001)\n"
          ]
        }
      ],
      "source": [
        "import pandas as pd\n",
        "from sklearn.feature_selection import SelectKBest, f_classif\n",
        "\n",
        "dfpatients_methy = pd.read_csv(r'patient_methy.csv', sep =\";\")\n",
        "dfnew = dfpatients_methy[\"barcode\"]\n",
        "\n",
        "for i in range(12):\n",
        "    # Recherche du fichier csv\n",
        "    file_list = drive.ListFile({'q': \"title='data{}.csv' and trashed=false\".format(i)}).GetList()\n",
        "    if file_list:\n",
        "        file_id = file_list[0]['id']\n",
        "        # Lecture du contenu du fichier csv\n",
        "        content = drive.CreateFile({'id': file_id}).GetContentString()\n",
        "        print(\"data{}.csv found\".format(i))\n",
        "        # Chargement du contenu csv dans un dataframe\n",
        "        df = pd.read_csv(io.StringIO(content), sep =\";\")\n",
        "        # print(df.head())\n",
        "        \n",
        "        print('OK Data')\n",
        "        # Séparation des données en variables cibles et caractéristiques\n",
        "        X = df\n",
        "        y = dfpatients_methy[\"barcode\"]\n",
        "\n",
        "        # # Supprimer la colonne \"barcode\" des caractéristiques\n",
        "        barcode = X[\"barcode\"]\n",
        "        X = X.drop(\"barcode\", axis=1)\n",
        "\n",
        "        X = X.apply(pd.to_numeric, errors='coerce')\n",
        "        X = X.apply(lambda x: x.fillna(x.median()), axis=1)\n",
        "\n",
        "        print('OK Norm')\n",
        "\n",
        "        # Sélection des k meilleures caractéristiques en utilisant ANOVA\n",
        "        k = 8000\n",
        "        selector = SelectKBest(f_classif, k=k)\n",
        "        selector.fit(X, y)\n",
        "\n",
        "        # Création d'un tableau qui contiendra les colonnes les plus informatives\n",
        "        important_features = X.columns[selector.get_support()]\n",
        "\n",
        "        # Sélection des caractéristiques les plus informatives\n",
        "        X_important = X[important_features]\n",
        "\n",
        "        # Ajout de la colonne \"barcode\" au début du tableau final\n",
        "        X_important.insert(0, 'barcode', barcode)\n",
        "\n",
        "\n",
        "        X_important.head()\n",
        "\n",
        "        X_important.shape\n",
        "        dfnew=pd.merge(dfnew, X_important, on=\"barcode\")\n",
        "\n",
        "    else:\n",
        "        print(\"data{}.csv not found\".format(i))\n",
        "      \n",
        "print('Go Save')\n",
        "print(dfnew.shape)\n",
        "dfnew.to_csv(\"MethylationReduce.csv\", sep=';')"
      ]
    },
    {
      "cell_type": "code",
      "source": [
        "print(dfnew.head())"
      ],
      "metadata": {
        "colab": {
          "base_uri": "https://localhost:8080/"
        },
        "id": "ZcEO27DH7-_x",
        "outputId": "45bcdc95-cf21-41be-84d2-8d30d8da3260"
      },
      "execution_count": null,
      "outputs": [
        {
          "output_type": "stream",
          "name": "stdout",
          "text": [
            "                        barcode     24469     24470     24471     24472  \\\n",
            "0  TCGA-DK-AA6S-01A-21D-A392-05  0.653810  0.628785  0.475823  0.037258   \n",
            "1  TCGA-DK-A3IK-01A-32D-A21B-05  0.320893  0.371639  0.488710  0.055398   \n",
            "2  TCGA-CF-A9FM-01A-11D-A38H-05  0.941811  0.623497  0.574412  0.053124   \n",
            "3  TCGA-H4-A2HQ-01A-11D-A17Y-05  0.107561  0.234362  0.366844  0.063296   \n",
            "4  TCGA-FD-A3B8-01A-31D-A211-05  0.768877  0.535028  0.591604  0.068712   \n",
            "\n",
            "      24473     24474     24475     24479     24480  ...    485567    485568  \\\n",
            "0  0.778397  0.315738  0.909996  0.978334  0.442063  ...  0.678325  0.013738   \n",
            "1  0.791300  0.540662  0.918205  0.964025  0.460911  ...  0.268836  0.011944   \n",
            "2  0.904433  0.827070  0.933692  0.986386  0.061309  ...  0.965567  0.971862   \n",
            "3  0.845188  0.198296  0.950750  0.952075  0.567805  ...  0.957051  0.959973   \n",
            "4  0.810401  0.641890  0.921163  0.950322  0.155436  ...  0.022895  0.978635   \n",
            "\n",
            "     485569    485570    485571    485572    485573    485574    485575  \\\n",
            "0  0.428950  0.012375  0.491295  0.448287  0.968589  0.972004  0.031403   \n",
            "1  0.390979  0.249778  0.968720  0.954569  0.841370  0.486099  0.039529   \n",
            "2  0.397083  0.014208  0.513809  0.949389  0.975109  0.031084  0.027022   \n",
            "3  0.464705  0.964441  0.429494  0.026310  0.959222  0.599271  0.538583   \n",
            "4  0.433584  0.015292  0.510258  0.028341  0.970803  0.960043  0.505847   \n",
            "\n",
            "     485576  \n",
            "0  0.695024  \n",
            "1  0.941798  \n",
            "2  0.950084  \n",
            "3  0.323739  \n",
            "4  0.629377  \n",
            "\n",
            "[5 rows x 120001 columns]\n"
          ]
        }
      ]
    }
  ],
  "metadata": {
    "colab": {
      "provenance": []
    },
    "kernelspec": {
      "display_name": "Python 3",
      "name": "python3"
    },
    "language_info": {
      "name": "python"
    }
  },
  "nbformat": 4,
  "nbformat_minor": 0
}